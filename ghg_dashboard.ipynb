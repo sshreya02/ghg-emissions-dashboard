{
 "cells": [
  {
   "cell_type": "code",
   "execution_count": 3,
   "id": "9ddc43b4-6aab-43a4-a3de-86b81e6f9673",
   "metadata": {},
   "outputs": [],
   "source": [
    "import pandas as pd\n",
    "import matplotlib.pyplot as plt"
   ]
  },
  {
   "cell_type": "code",
   "execution_count": 5,
   "id": "c83b6a53-9ec8-4701-bdb9-0896d3d9710f",
   "metadata": {},
   "outputs": [
    {
     "data": {
      "text/html": [
       "<div>\n",
       "<style scoped>\n",
       "    .dataframe tbody tr th:only-of-type {\n",
       "        vertical-align: middle;\n",
       "    }\n",
       "\n",
       "    .dataframe tbody tr th {\n",
       "        vertical-align: top;\n",
       "    }\n",
       "\n",
       "    .dataframe thead th {\n",
       "        text-align: right;\n",
       "    }\n",
       "</style>\n",
       "<table border=\"1\" class=\"dataframe\">\n",
       "  <thead>\n",
       "    <tr style=\"text-align: right;\">\n",
       "      <th></th>\n",
       "      <th>Month</th>\n",
       "      <th>Electricity_kWh</th>\n",
       "      <th>NaturalGas_therms</th>\n",
       "      <th>Water_gal</th>\n",
       "    </tr>\n",
       "  </thead>\n",
       "  <tbody>\n",
       "    <tr>\n",
       "      <th>0</th>\n",
       "      <td>Jan</td>\n",
       "      <td>1200</td>\n",
       "      <td>80</td>\n",
       "      <td>4000</td>\n",
       "    </tr>\n",
       "    <tr>\n",
       "      <th>1</th>\n",
       "      <td>Feb</td>\n",
       "      <td>1100</td>\n",
       "      <td>75</td>\n",
       "      <td>3900</td>\n",
       "    </tr>\n",
       "    <tr>\n",
       "      <th>2</th>\n",
       "      <td>Mar</td>\n",
       "      <td>1000</td>\n",
       "      <td>70</td>\n",
       "      <td>3800</td>\n",
       "    </tr>\n",
       "    <tr>\n",
       "      <th>3</th>\n",
       "      <td>Apr</td>\n",
       "      <td>950</td>\n",
       "      <td>60</td>\n",
       "      <td>3700</td>\n",
       "    </tr>\n",
       "  </tbody>\n",
       "</table>\n",
       "</div>"
      ],
      "text/plain": [
       "  Month  Electricity_kWh  NaturalGas_therms  Water_gal\n",
       "0   Jan             1200                 80       4000\n",
       "1   Feb             1100                 75       3900\n",
       "2   Mar             1000                 70       3800\n",
       "3   Apr              950                 60       3700"
      ]
     },
     "execution_count": 5,
     "metadata": {},
     "output_type": "execute_result"
    }
   ],
   "source": [
    "df = pd.read_csv('ghg_data_sample.csv')\n",
    "df.head()"
   ]
  },
  {
   "cell_type": "code",
   "execution_count": 7,
   "id": "e0496956-310a-40d8-8540-a00b84ffbf54",
   "metadata": {},
   "outputs": [
    {
     "data": {
      "text/html": [
       "<div>\n",
       "<style scoped>\n",
       "    .dataframe tbody tr th:only-of-type {\n",
       "        vertical-align: middle;\n",
       "    }\n",
       "\n",
       "    .dataframe tbody tr th {\n",
       "        vertical-align: top;\n",
       "    }\n",
       "\n",
       "    .dataframe thead th {\n",
       "        text-align: right;\n",
       "    }\n",
       "</style>\n",
       "<table border=\"1\" class=\"dataframe\">\n",
       "  <thead>\n",
       "    <tr style=\"text-align: right;\">\n",
       "      <th></th>\n",
       "      <th>Month</th>\n",
       "      <th>Electricity_kWh</th>\n",
       "      <th>NaturalGas_therms</th>\n",
       "      <th>Water_gal</th>\n",
       "      <th>Electricity_emissions</th>\n",
       "      <th>Gas_emissions</th>\n",
       "      <th>Water_emissions</th>\n",
       "      <th>Total_emissions_kg</th>\n",
       "    </tr>\n",
       "  </thead>\n",
       "  <tbody>\n",
       "    <tr>\n",
       "      <th>0</th>\n",
       "      <td>Jan</td>\n",
       "      <td>1200</td>\n",
       "      <td>80</td>\n",
       "      <td>4000</td>\n",
       "      <td>500.40</td>\n",
       "      <td>424.0</td>\n",
       "      <td>6.00</td>\n",
       "      <td>930.40</td>\n",
       "    </tr>\n",
       "    <tr>\n",
       "      <th>1</th>\n",
       "      <td>Feb</td>\n",
       "      <td>1100</td>\n",
       "      <td>75</td>\n",
       "      <td>3900</td>\n",
       "      <td>458.70</td>\n",
       "      <td>397.5</td>\n",
       "      <td>5.85</td>\n",
       "      <td>862.05</td>\n",
       "    </tr>\n",
       "    <tr>\n",
       "      <th>2</th>\n",
       "      <td>Mar</td>\n",
       "      <td>1000</td>\n",
       "      <td>70</td>\n",
       "      <td>3800</td>\n",
       "      <td>417.00</td>\n",
       "      <td>371.0</td>\n",
       "      <td>5.70</td>\n",
       "      <td>793.70</td>\n",
       "    </tr>\n",
       "    <tr>\n",
       "      <th>3</th>\n",
       "      <td>Apr</td>\n",
       "      <td>950</td>\n",
       "      <td>60</td>\n",
       "      <td>3700</td>\n",
       "      <td>396.15</td>\n",
       "      <td>318.0</td>\n",
       "      <td>5.55</td>\n",
       "      <td>719.70</td>\n",
       "    </tr>\n",
       "  </tbody>\n",
       "</table>\n",
       "</div>"
      ],
      "text/plain": [
       "  Month  Electricity_kWh  NaturalGas_therms  Water_gal  Electricity_emissions  \\\n",
       "0   Jan             1200                 80       4000                 500.40   \n",
       "1   Feb             1100                 75       3900                 458.70   \n",
       "2   Mar             1000                 70       3800                 417.00   \n",
       "3   Apr              950                 60       3700                 396.15   \n",
       "\n",
       "   Gas_emissions  Water_emissions  Total_emissions_kg  \n",
       "0          424.0             6.00              930.40  \n",
       "1          397.5             5.85              862.05  \n",
       "2          371.0             5.70              793.70  \n",
       "3          318.0             5.55              719.70  "
      ]
     },
     "execution_count": 7,
     "metadata": {},
     "output_type": "execute_result"
    }
   ],
   "source": [
    "# Standard emission factors (kg CO₂e per unit)\n",
    "EF = {\n",
    "    'Electricity': 0.417,   # kg CO₂e per kWh\n",
    "    'NaturalGas': 5.3,      # kg CO₂e per therm\n",
    "    'Water': 0.0015         # kg CO₂e per gallon\n",
    "}\n",
    "\n",
    "# Calculate emissions\n",
    "df['Electricity_emissions'] = df['Electricity_kWh'] * EF['Electricity']\n",
    "df['Gas_emissions']         = df['NaturalGas_therms'] * EF['NaturalGas']\n",
    "df['Water_emissions']       = df['Water_gal'] * EF['Water']\n",
    "\n",
    "# Sum to get total emissions per month\n",
    "df['Total_emissions_kg'] = (\n",
    "    df['Electricity_emissions'] +\n",
    "    df['Gas_emissions'] +\n",
    "    df['Water_emissions']\n",
    ")\n",
    "\n",
    "df"
   ]
  },
  {
   "cell_type": "code",
   "execution_count": 9,
   "id": "6f9db54d-d7cb-4db6-8676-23aa3438ebad",
   "metadata": {},
   "outputs": [
    {
     "data": {
      "image/png": "[encoded data removed]",
      "text/plain": [
       "<Figure size 1000x500 with 1 Axes>"
      ]
     },
     "metadata": {},
     "output_type": "display_data"
    }
   ],
   "source": [
    "plt.figure(figsize=(10, 5))\n",
    "plt.plot(df['Month'], df['Total_emissions_kg'], marker='o')\n",
    "plt.title('Monthly GHG Emissions (kg CO₂e)')\n",
    "plt.xlabel('Month')\n",
    "plt.ylabel('Emissions (kg CO₂e)')\n",
    "plt.grid(True)\n",
    "\n",
    "# Save the plot image\n",
    "plt.savefig('emissions_plot.png')\n",
    "plt.show()\n"
   ]
  },
  {
   "cell_type": "code",
   "execution_count": null,
   "id": "532b9f00-3695-432f-9307-61966902c41e",
   "metadata": {},
   "outputs": [],
   "source": []
  }
 ],
 "metadata": {
  "kernelspec": {
   "display_name": "Python [conda env:base] *",
   "language": "python",
   "name": "conda-base-py"
  },
  "language_info": {
   "codemirror_mode": {
    "name": "ipython",
    "version": 3
   },
   "file_extension": ".py",
   "mimetype": "text/x-python",
   "name": "python",
   "nbconvert_exporter": "python",
   "pygments_lexer": "ipython3",
   "version": "3.12.7"
  }
 },
 "nbformat": 4,
 "nbformat_minor": 5
}
